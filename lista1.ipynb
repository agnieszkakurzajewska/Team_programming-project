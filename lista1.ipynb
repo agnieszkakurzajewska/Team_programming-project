{
  "nbformat": 4,
  "nbformat_minor": 0,
  "metadata": {
    "kernelspec": {
      "display_name": "Python 3",
      "language": "python",
      "name": "python3"
    },
    "language_info": {
      "codemirror_mode": {
        "name": "ipython",
        "version": 3
      },
      "file_extension": ".py",
      "mimetype": "text/x-python",
      "name": "python",
      "nbconvert_exporter": "python",
      "pygments_lexer": "ipython3",
      "version": "3.8.1"
    },
    "colab": {
      "name": "lista1.ipynb",
      "provenance": [],
      "collapsed_sections": [],
      "include_colab_link": true
    }
  },
  "cells": [
    {
      "cell_type": "markdown",
      "metadata": {
        "id": "view-in-github",
        "colab_type": "text"
      },
      "source": [
        "<a href=\"https://colab.research.google.com/github/s7e0n5g1a/zespolowe/blob/master/lista1.ipynb\" target=\"_parent\"><img src=\"https://colab.research.google.com/assets/colab-badge.svg\" alt=\"Open In Colab\"/></a>"
      ]
    },
    {
      "cell_type": "markdown",
      "metadata": {
        "id": "5dVrn38PSW7G",
        "colab_type": "text"
      },
      "source": [
        "# Lista 1\n",
        "\n",
        "## Kurs wybranego języka programowania (Python)\n",
        "\n",
        "Wszystkie rozwiązania proszę wpisać w tym notatniku poniżej treści zadań. Zadania z `*` to zadania dodatkowe."
      ]
    },
    {
      "cell_type": "markdown",
      "metadata": {
        "id": "CFHxRY0TSW7J",
        "colab_type": "text"
      },
      "source": [
        "## Zadanie 1 _(5pt)_\n",
        "\n",
        "Napisz funkcję, który wyświetla trójkąt Pascala o zadanej wysokości\n",
        "```\n",
        "                1\n",
        "              1   1\n",
        "            1   2   1\n",
        "          1   3   3   1\n",
        "        1   4   6   4   1\n",
        "      .....................\n",
        "```"
      ]
    },
    {
      "cell_type": "code",
      "metadata": {
        "id": "XmgH3rRxSW7L",
        "colab_type": "code",
        "colab": {}
      },
      "source": [
        "def pascal_triangle(n):\n",
        "\n",
        "  previousLine = [1]\n",
        "  print((\"1\").center(n*5))\n",
        "\n",
        "  for row in range(n-1):\n",
        "    nextLine = [1]\n",
        "\n",
        "    for column in range(len(previousLine) - 1):\n",
        "        nextLine.append(previousLine[column] + previousLine[column + 1])\n",
        "\n",
        "    nextLine.append(1)\n",
        "    previousLine = nextLine\n",
        "    defaultString = \"\"\n",
        "    for element in previousLine:  \n",
        "      defaultString += str(element)+\" \"\n",
        "\n",
        "    print(defaultString.center(n*5))\n",
        "\n",
        "x = input(\"Podaj n: \")\n",
        "\n",
        "pascal_triangle(int(x))"
      ],
      "execution_count": 0,
      "outputs": []
    },
    {
      "cell_type": "markdown",
      "metadata": {
        "id": "twYvuydoSW7R",
        "colab_type": "text"
      },
      "source": [
        "## Zadanie 2 _(5pt)_\n",
        "\n",
        "Napisz funkcję `primes(n)` zwracająca listę liczb pierwszych nie większych niż $n$ np.\n",
        "\n",
        "```\n",
        "In [ ]:   primes(6)\n",
        "Out [ ]: [2, 3, 5]\n",
        "```"
      ]
    },
    {
      "cell_type": "code",
      "metadata": {
        "id": "oDbVEg3kSW7S",
        "colab_type": "code",
        "colab": {}
      },
      "source": [
        "def primes(n):\n",
        "  default_list = []\n",
        "  for i in range(2, n):\n",
        "    if(ifPrime(i)==True):\n",
        "      default_list.append(i)\n",
        "  return default_list\n",
        "\n",
        "def ifPrime(n):\n",
        "  for i in range(2, n-1):\n",
        "    if(moduloChecker(n, i)==True):\n",
        "        return False\n",
        "  return True   \n",
        "\n",
        "def moduloChecker(n, k): # zwraca true jesli podzielne\n",
        "    if (n%k==0):\n",
        "      return True\n",
        "    return False\n",
        "\n",
        "x = input(\"Podaj n: \")\n",
        "print(primes(int(x)))"
      ],
      "execution_count": 0,
      "outputs": []
    },
    {
      "cell_type": "markdown",
      "metadata": {
        "id": "wRz-0VRxSW7V",
        "colab_type": "text"
      },
      "source": [
        "## Zadanie 3 _(5pt)_\n",
        "\n",
        "Napisz funkcje, która usuwa wszystkie powtarzające się elementy z listy (tak, że każdy element występuje tylko raz) np. z listy `[1,1,2,2,2,3,3,5,5,5,4,4,4,0]` dostajemy `[1,2,3,5,4,0]`."
      ]
    },
    {
      "cell_type": "code",
      "metadata": {
        "id": "HxB7CTs6SW7X",
        "colab_type": "code",
        "colab": {}
      },
      "source": [
        "def remover(sample):\n",
        "  new_list = [sample[0]]\n",
        "  for i in range(1, len(sample)):\n",
        "    if(not(sample[i] in new_list)):\n",
        "      new_list.append(sample[i])\n",
        "  return new_list\n",
        "\n",
        "sample = [1,1,2,2,2,3,3,5,5,5,4,4,4,0]\n",
        "print(remover(sample))"
      ],
      "execution_count": 0,
      "outputs": []
    },
    {
      "cell_type": "markdown",
      "metadata": {
        "id": "ZjV0PDITSW7a",
        "colab_type": "text"
      },
      "source": [
        "## Zadanie 4 _(10pt)_\n",
        "\n",
        "Napisz funkcję `prime_factors(n)`, która rozkłada $n$ na czynniki pierwsze i jako wynik wraca listę par $[(p_1,\\alpha_1), (p_2,\\alpha_2), \\ldots, (p_k, \\alpha_k)]$ taką, że $p_1^{\\alpha_1}p_2^{\\alpha_2}\\ldots p_k^{\\alpha_k}$.\n"
      ]
    },
    {
      "cell_type": "code",
      "metadata": {
        "id": "uXWspAf-SW7b",
        "colab_type": "code",
        "colab": {}
      },
      "source": [
        "def dividers(n):\n",
        "  my_primes = primes(int(n))\n",
        "  my_dividers = []\n",
        "  while(n!=1):\n",
        "    for prime in my_primes:\n",
        "      if(n%prime==0):\n",
        "        my_dividers.append(prime)\n",
        "        n = n/prime\n",
        "  return my_dividers\n",
        "\n",
        "def counter(a, b):\n",
        "  counter = 0\n",
        "  for element in b:\n",
        "    if(element==a):\n",
        "      counter += 1\n",
        "  return counter\n",
        "\n",
        "def prime_factors(n):\n",
        "  default_list = []\n",
        "  div = dividers(n)\n",
        "  for d in div:\n",
        "    default_list.append((d, counter(d, div)))\n",
        "  return remover(default_list)\n",
        "\n",
        "n = input(\"Podaj n: \")\n",
        "print(prime_factors(int(n)))\n"
      ],
      "execution_count": 0,
      "outputs": []
    },
    {
      "cell_type": "markdown",
      "metadata": {
        "id": "lbs-hmUzSW7e",
        "colab_type": "text"
      },
      "source": [
        "## Zadanie 5 _(10pt)_\n",
        "\n",
        "Napisz funkcję `fraczero(n)` liczącą silnie $n!$ dla $n$ od $0$ do $10000$ oraz jako wynik wraca liczbę zer na końcu $n!$."
      ]
    },
    {
      "cell_type": "code",
      "metadata": {
        "id": "ylaHwnuiSW7f",
        "colab_type": "code",
        "colab": {}
      },
      "source": [
        "def fraczero(n):\n",
        "  if(n<0 or n>10000):\n",
        "    return False\n",
        "  zero_counter = 0\n",
        "  counter = 1\n",
        "  for i in range(1, n+1):\n",
        "    counter = counter*i\n",
        "  my_list = list(str(counter))\n",
        "  for j in range(len(my_list)-1, -1, -1):\n",
        "    if(int(my_list[j])==0):\n",
        "      zero_counter += 1\n",
        "    else:\n",
        "      return zero_counter\n",
        "  return zero_counter\n",
        "\n",
        "n = input(\"Podaj n: \")\n",
        "print(fraczero(int(n)))"
      ],
      "execution_count": 0,
      "outputs": []
    },
    {
      "cell_type": "markdown",
      "metadata": {
        "id": "Ju7AbWfHSW7j",
        "colab_type": "text"
      },
      "source": [
        "## Zadanie 6 _(10pt)_\n",
        "\n",
        "Napisz program, który generuje liczbę $20$ liczb losowych (rozkład jednostajny) od $1$ do $100$\n",
        "* Wyświetl listę wygenerowanych liczb\n",
        "* Wyświetl średnią\n",
        "* Wyświetl największą i najmniejszą wartość\n",
        "* Wyświetl drugą największą i drugą najmniejszą wartość na liście\n",
        "* Wyświetl ile jest liczb parzystych na liście\n",
        " "
      ]
    },
    {
      "cell_type": "code",
      "metadata": {
        "id": "R_VyUTtJSW7k",
        "colab_type": "code",
        "colab": {}
      },
      "source": [
        ""
      ],
      "execution_count": 0,
      "outputs": []
    },
    {
      "cell_type": "markdown",
      "metadata": {
        "id": "E0Y0ZSe1SW7n",
        "colab_type": "text"
      },
      "source": [
        "## Zadanie 7 _(10pt)_\n",
        "\n",
        "Załóżmy, że mamy następującą listę: `L = ['aababacaa', 'cabaabcca', 'aaabbcbacb', 'acababbaab', ...]` wygenerowaną losowo tzn. lista zawiera losowe ciągi znaków o zadanej długości z liter `'a'`, `'b'` i `'c'`. Takie wzorce występują w wielu miejscach np. sekwencje DNA. Użytkownik zawiera swój (wzorzec) ciąg znaków z literami i pustymi miejscami oznaczonymi przez `'*'` np. `\"a**a******\"`. Wykorzystaj słownik z kluczami zawierającymi indeksy znaków różnych od `'*'` i wartościami liter z wzorca. Napisz program, który znajduje wszystkie sekwencje z listy, które pasuje do podanego wzorca."
      ]
    },
    {
      "cell_type": "code",
      "metadata": {
        "id": "bE3Hq2B_SW7n",
        "colab_type": "code",
        "colab": {}
      },
      "source": [
        ""
      ],
      "execution_count": 0,
      "outputs": []
    },
    {
      "cell_type": "markdown",
      "metadata": {
        "id": "uFK430xTSW7r",
        "colab_type": "text"
      },
      "source": [
        "## Zadanie 8 _(10pt)_\n",
        "\n",
        "Napisz program, który konwerteruje liczby rzymskie na liczby arabskie. Do zapisu liczb rzymskich używa\n",
        "się 7 liter: `I=1`, `V=5`, `X=10`, `L=50`, `C=100`, `D=500`, `M=1000`. Opis algorytmu zamiany z i na system rzymski można znaleźć np. [tutaj](http://www.algorytm.org/algorytmy-arytmetyczne/zamiana-z-i-na-system-rzymski.html)"
      ]
    },
    {
      "cell_type": "code",
      "metadata": {
        "id": "yERcOFOLSW7u",
        "colab_type": "code",
        "colab": {}
      },
      "source": [
        "def fun(n):\n",
        "  my_num = 0\n",
        "  letters = [\"I\", \"V\", \"X\", \"L\", \"C\", \"D\", \"M\"]\n",
        "  values = [1, 5, 10, 50, 100, 500, 1000]\n",
        "  for i in range(0, len(n)):  \n",
        "    for counter in range(7):\n",
        "      if (letters[counter]== n[i]):\n",
        "        my_num +=values[counter]\n",
        "\n",
        "  for i in range(0, len(n)-1):      \n",
        "    a = n[i]\n",
        "    b = n[i+1]\n",
        "    if (a==\"I\"and (b==\"V\" or b==\"X\")):\n",
        "      my_num -= 2\n",
        "    if (a==\"X\" and (b==\"C\" or b==\"L\")):\n",
        "      my_num -= 20\n",
        "    if (a==\"C\" and (b==\"D\" or b==\"M\")):\n",
        "      my_num -= 200\n",
        "      \n",
        "  print(my_num)\n",
        "\n",
        "    \n",
        "n = input(\"Podaj n: \")\n",
        "print(fun(list(n)))"
      ],
      "execution_count": 0,
      "outputs": []
    },
    {
      "cell_type": "markdown",
      "metadata": {
        "id": "4RL5nnGqSW7x",
        "colab_type": "text"
      },
      "source": [
        "## Zadanie 9* _(5pt)_\n",
        "\n",
        "Napisz program kalkulator, który pobiera wprowadzone wartości oraz funkcje z klawiatury następnie podaje wynik. W przypadku błędnych danych zgłasza błąd.\n",
        "\n",
        "Przykładowa sesja:\n",
        "```\n",
        "    Kalkulator\n",
        "    [1]: 2+5*10\n",
        "        52\n",
        "    [2]: sin(0.5)+cos(0.3)\n",
        "        1.434762027729809\n",
        "    [3]: 2^100\n",
        "        1267650600228229401496703205376\n",
        "```\n",
        "\n",
        "Przykładowy kod pobierania danych od użytkownika:\n",
        "\n",
        "```\n",
        "    x = input('Podaj x = ')\n",
        "```"
      ]
    },
    {
      "cell_type": "code",
      "metadata": {
        "id": "z-WbkFeJSW7y",
        "colab_type": "code",
        "colab": {}
      },
      "source": [
        ""
      ],
      "execution_count": 0,
      "outputs": []
    },
    {
      "cell_type": "markdown",
      "metadata": {
        "id": "xxz2tPYzSW70",
        "colab_type": "text"
      },
      "source": [
        "\n",
        "## Zadanie 10* _(10pt)_\n",
        "\n",
        "Napisz program, który rysuje na ekranie w trybie znakowym wykres funkcji zmiennej $x$. Wskazówka: utwórz  ,,tablicę dwuwymiarową'' o wymiarach 80x24 i narysuj wykres w tej tablicy. Następnie wynik wyświetl na ekranie.\n",
        "\n",
        "```\n",
        "        Podaj funkcje f(x) = sin(x)\n",
        "        Podaj początek przedziału a = -pi\n",
        "        Podaj koniec przedziału b = pi\n",
        "                                                |\n",
        "                                                |\n",
        "                                                |              ***********\n",
        "                                                |           ***           ***\n",
        "                                                |         **                 **\n",
        "                                                |        *                     *\n",
        "                                                |      **                       **\n",
        "                                                |     *                           *\n",
        "                                                |   **                             **\n",
        "                                                |  *                                 *\n",
        "                                                | *                                   *\n",
        "                                                |*                                     *\n",
        "        ----------------------------------------|---------------------------------------\n",
        "          *                                   * |\n",
        "           *                                 *  |\n",
        "            **                             **   |\n",
        "              *                           *     |\n",
        "               **                       **      |\n",
        "                 *                     *        |\n",
        "                  **                 **         |\n",
        "                    ***           ***           |\n",
        "                       ***** *****              |\n",
        "                            *                   |\n",
        "                                                |\n",
        "```"
      ]
    },
    {
      "cell_type": "code",
      "metadata": {
        "id": "kkAVdXJaSW71",
        "colab_type": "code",
        "colab": {}
      },
      "source": [
        ""
      ],
      "execution_count": 0,
      "outputs": []
    }
  ]
}